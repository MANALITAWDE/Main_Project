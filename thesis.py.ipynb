{
 "cells": [
  {
   "cell_type": "code",
   "execution_count": 1,
   "metadata": {
    "collapsed": true
   },
   "outputs": [],
   "source": [
    "import numpy as np\n",
    "import pandas as pd"
   ]
  },
  {
   "cell_type": "code",
   "execution_count": 2,
   "metadata": {
    "collapsed": true
   },
   "outputs": [],
   "source": [
    "dataset = pd.read_csv(\"dataset.csv\")\n"
   ]
  },
  {
   "cell_type": "code",
   "execution_count": 3,
   "metadata": {
    "collapsed": true
   },
   "outputs": [],
   "source": [
    "dataset[\"powerA\"] = dataset[\"VoltageA\"] * dataset[\"Current A\"]\n"
   ]
  },
  {
   "cell_type": "code",
   "execution_count": 4,
   "metadata": {
    "collapsed": true
   },
   "outputs": [],
   "source": [
    "dataset[\"powerB\"] = dataset[\"VoltageA\"] * dataset[\"Current B\"]\n"
   ]
  },
  {
   "cell_type": "code",
   "execution_count": 5,
   "metadata": {},
   "outputs": [
    {
     "data": {
      "text/html": [
       "<div>\n",
       "<style>\n",
       "    .dataframe thead tr:only-child th {\n",
       "        text-align: right;\n",
       "    }\n",
       "\n",
       "    .dataframe thead th {\n",
       "        text-align: left;\n",
       "    }\n",
       "\n",
       "    .dataframe tbody tr th {\n",
       "        vertical-align: top;\n",
       "    }\n",
       "</style>\n",
       "<table border=\"1\" class=\"dataframe\">\n",
       "  <thead>\n",
       "    <tr style=\"text-align: right;\">\n",
       "      <th></th>\n",
       "      <th>X_Value</th>\n",
       "      <th>Current A</th>\n",
       "      <th>Current B</th>\n",
       "      <th>VoltageA</th>\n",
       "      <th>powerA</th>\n",
       "      <th>powerB</th>\n",
       "    </tr>\n",
       "  </thead>\n",
       "  <tbody>\n",
       "    <tr>\n",
       "      <th>0</th>\n",
       "      <td>0.000000</td>\n",
       "      <td>0.742134</td>\n",
       "      <td>1.340304</td>\n",
       "      <td>-149.180629</td>\n",
       "      <td>-110.712017</td>\n",
       "      <td>-199.947394</td>\n",
       "    </tr>\n",
       "    <tr>\n",
       "      <th>1</th>\n",
       "      <td>0.000083</td>\n",
       "      <td>0.933177</td>\n",
       "      <td>-1.443007</td>\n",
       "      <td>-144.194623</td>\n",
       "      <td>-134.559106</td>\n",
       "      <td>208.073850</td>\n",
       "    </tr>\n",
       "    <tr>\n",
       "      <th>2</th>\n",
       "      <td>0.000167</td>\n",
       "      <td>0.827042</td>\n",
       "      <td>-0.915865</td>\n",
       "      <td>-138.956161</td>\n",
       "      <td>-114.922581</td>\n",
       "      <td>127.265084</td>\n",
       "    </tr>\n",
       "    <tr>\n",
       "      <th>3</th>\n",
       "      <td>0.000250</td>\n",
       "      <td>0.911950</td>\n",
       "      <td>-0.726094</td>\n",
       "      <td>-136.810285</td>\n",
       "      <td>-124.764139</td>\n",
       "      <td>99.337127</td>\n",
       "    </tr>\n",
       "    <tr>\n",
       "      <th>4</th>\n",
       "      <td>0.000333</td>\n",
       "      <td>1.102993</td>\n",
       "      <td>-1.000208</td>\n",
       "      <td>-132.581647</td>\n",
       "      <td>-146.236629</td>\n",
       "      <td>132.609224</td>\n",
       "    </tr>\n",
       "  </tbody>\n",
       "</table>\n",
       "</div>"
      ],
      "text/plain": [
       "    X_Value  Current A  Current B    VoltageA      powerA      powerB\n",
       "0  0.000000   0.742134   1.340304 -149.180629 -110.712017 -199.947394\n",
       "1  0.000083   0.933177  -1.443007 -144.194623 -134.559106  208.073850\n",
       "2  0.000167   0.827042  -0.915865 -138.956161 -114.922581  127.265084\n",
       "3  0.000250   0.911950  -0.726094 -136.810285 -124.764139   99.337127\n",
       "4  0.000333   1.102993  -1.000208 -132.581647 -146.236629  132.609224"
      ]
     },
     "execution_count": 5,
     "metadata": {},
     "output_type": "execute_result"
    }
   ],
   "source": [
    "dataset.head()\n"
   ]
  },
  {
   "cell_type": "code",
   "execution_count": null,
   "metadata": {
    "collapsed": true
   },
   "outputs": [],
   "source": []
  }
 ],
 "metadata": {
  "kernelspec": {
   "display_name": "Python 3",
   "language": "python",
   "name": "python3"
  },
  "language_info": {
   "codemirror_mode": {
    "name": "ipython",
    "version": 3
   },
   "file_extension": ".py",
   "mimetype": "text/x-python",
   "name": "python",
   "nbconvert_exporter": "python",
   "pygments_lexer": "ipython3",
   "version": "3.6.1"
  }
 },
 "nbformat": 4,
 "nbformat_minor": 2
}
